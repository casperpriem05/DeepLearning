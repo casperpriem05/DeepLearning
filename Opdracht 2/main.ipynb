{
 "cells": [
  {
   "cell_type": "markdown",
   "id": "925e0df2",
   "metadata": {},
   "source": [
    "# Karaoke klassificatie 2025"
   ]
  },
  {
   "cell_type": "markdown",
   "id": "a73b6aa6",
   "metadata": {},
   "source": [
    "Team Diep Leren en Opereren\n",
    "\n",
    "Groepsleden:\n",
    "- Casper Priem - (casperpriem)\n",
    "- Lars Timmer - (laltir)\n",
    "- Matthias de Vreede - (matthiasdevreede)\n",
    "- Willem van Dijk - (willemvandijk)"
   ]
  },
  {
   "cell_type": "markdown",
   "id": "ad9d0c9b",
   "metadata": {},
   "source": [
    "Voor groepsleden (DELETE AFTER)\n",
    "\n",
    "- Spreektaal nederlands, dus comments en markdown in het nederlands mieteren\n",
    "- Heading 2 per onderwerp, daarbinnen heading 3 per vraag\n",
    "- In dezelfde cel de beschijving van de opdracht gooien\n",
    "\n",
    "Op het eind doen we nummering\n",
    "\n",
    "\n",
    "Andere groepen gaven aan dat alleen audio clip of alleen songtexten niet veel deed, dus daar niet heel erg op score letten. Ik verwacht dat de transformer / model naar keuze het beste zal werken."
   ]
  },
  {
   "cell_type": "markdown",
   "id": "2ab735f1",
   "metadata": {},
   "source": [
    "### Inladen Libraries"
   ]
  },
  {
   "cell_type": "code",
   "execution_count": 1,
   "id": "9079ea59",
   "metadata": {},
   "outputs": [],
   "source": [
    "import pandas as pd\n",
    "import os\n",
    "import numpy as np\n",
    "import seaborn as sns\n",
    "import matplotlib.pyplot as plt\n",
    "import tensorflow as tf\n",
    "import datetime as dt\n",
    "import pathlib\n",
    "import warnings\n",
    "\n",
    "warnings.filterwarnings(\"ignore\", category=UserWarning)"
   ]
  },
  {
   "cell_type": "markdown",
   "id": "3fe915ab",
   "metadata": {},
   "source": [
    "## Exploratieve Data Analyse"
   ]
  },
  {
   "cell_type": "code",
   "execution_count": null,
   "id": "b81d6a7c",
   "metadata": {},
   "outputs": [],
   "source": [
    "df_train = pd.read_csv(\"train.csv\")\n",
    "\n",
    "df_train"
   ]
  },
  {
   "cell_type": "markdown",
   "id": "370e0a1e",
   "metadata": {},
   "source": [
    "### Inlezen Audiotracks\n",
    "\n",
    "Lees de audiotracks in en speel een paar fragmenten uit verschillende genres."
   ]
  },
  {
   "cell_type": "code",
   "execution_count": 2,
   "id": "7ad7569c",
   "metadata": {},
   "outputs": [
    {
     "ename": "NameError",
     "evalue": "name 'audio_dir' is not defined",
     "output_type": "error",
     "traceback": [
      "\u001b[31m---------------------------------------------------------------------------\u001b[39m",
      "\u001b[31mNameError\u001b[39m                                 Traceback (most recent call last)",
      "\u001b[36mCell\u001b[39m\u001b[36m \u001b[39m\u001b[32mIn[2]\u001b[39m\u001b[32m, line 3\u001b[39m\n\u001b[32m      1\u001b[39m \u001b[38;5;28;01mimport\u001b[39;00m\u001b[38;5;250m \u001b[39m\u001b[34;01mglob\u001b[39;00m\n\u001b[32m----> \u001b[39m\u001b[32m3\u001b[39m audio_files = glob.glob(os.path.join(\u001b[43maudio_dir\u001b[49m, \u001b[33m'\u001b[39m\u001b[33m*.wav\u001b[39m\u001b[33m'\u001b[39m))  \u001b[38;5;66;03m# pas de extensie zo nodig aan\u001b[39;00m\n\u001b[32m      5\u001b[39m \u001b[38;5;28;01mfor\u001b[39;00m af \u001b[38;5;129;01min\u001b[39;00m audio_files[:\u001b[32m3\u001b[39m]:  \u001b[38;5;66;03m# eerste 3 bestanden als voorbeeld\u001b[39;00m\n\u001b[32m      6\u001b[39m     y, sr = librosa.load(af, sr=\u001b[38;5;28;01mNone\u001b[39;00m)\n",
      "\u001b[31mNameError\u001b[39m: name 'audio_dir' is not defined"
     ]
    }
   ],
   "source": [
    "import glob\n",
    "\n",
    "audio_files = glob.glob(os.path.join(audio_dir, '*.wav'))  # pas de extensie zo nodig aan\n",
    "\n",
    "for af in audio_files[:3]:  # eerste 3 bestanden als voorbeeld\n",
    "    y, sr = librosa.load(af, sr=None)\n",
    "    duration = len(y) / sr\n",
    "    print(f\"Bestand: {os.path.basename(af)} | SR: {sr} | Duur: {duration:.2f}s\")\n",
    "    display(ipd.Audio(y, rate=sr))\n"
   ]
  },
  {
   "cell_type": "markdown",
   "id": "4ee4d8a0",
   "metadata": {},
   "source": [
    "### Audio eigenschappen\n",
    "\n",
    "Vermeld de eigenschappen van het audiobestand, zoals de duur en de\n",
    "samplingsfrequentie."
   ]
  },
  {
   "cell_type": "code",
   "execution_count": null,
   "id": "4e291659",
   "metadata": {},
   "outputs": [
    {
     "ename": "NameError",
     "evalue": "name 'audio_files' is not defined",
     "output_type": "error",
     "traceback": [
      "\u001b[31m---------------------------------------------------------------------------\u001b[39m",
      "\u001b[31mNameError\u001b[39m                                 Traceback (most recent call last)",
      "\u001b[36mCell\u001b[39m\u001b[36m \u001b[39m\u001b[32mIn[3]\u001b[39m\u001b[32m, line 5\u001b[39m\n\u001b[32m      1\u001b[39m \u001b[38;5;28;01mimport\u001b[39;00m\u001b[38;5;250m \u001b[39m\u001b[34;01mpandas\u001b[39;00m\u001b[38;5;250m \u001b[39m\u001b[38;5;28;01mas\u001b[39;00m\u001b[38;5;250m \u001b[39m\u001b[34;01mpd\u001b[39;00m\n\u001b[32m      3\u001b[39m audio_features = []\n\u001b[32m----> \u001b[39m\u001b[32m5\u001b[39m \u001b[38;5;28;01mfor\u001b[39;00m af \u001b[38;5;129;01min\u001b[39;00m \u001b[43maudio_files\u001b[49m:\n\u001b[32m      6\u001b[39m     y, sr = librosa.load(af, sr=\u001b[38;5;28;01mNone\u001b[39;00m)\n\u001b[32m      7\u001b[39m     duration = \u001b[38;5;28mlen\u001b[39m(y) / sr\n",
      "\u001b[31mNameError\u001b[39m: name 'audio_files' is not defined"
     ]
    }
   ],
   "source": [
    "import pandas as pd\n",
    "\n",
    "audio_features = []\n",
    "\n",
    "for af in audio_files:\n",
    "    y, sr = librosa.load(af, sr=None)\n",
    "    duration = len(y) / sr\n",
    "    \n",
    "    # Voorbeeld: tempo\n",
    "    tempo, _ = librosa.beat.beat_track(y=y, sr=sr)\n",
    "    \n",
    "    # Voorbeeld: gemiddelde zero crossing rate\n",
    "    zcr = librosa.feature.zero_crossing_rate(y)\n",
    "    mean_zcr = zcr.mean()\n",
    "    \n",
    "    # Voeg toe aan lijst\n",
    "    audio_features.append({\n",
    "        'filename': os.path.basename(af),\n",
    "        'duration': duration,\n",
    "        'sampling_rate': sr,\n",
    "        'tempo': tempo,\n",
    "        'mean_zcr': mean_zcr\n",
    "    })\n",
    "\n",
    "df_audio = pd.DataFrame(audio_features)\n",
    "df_audio.head()\n",
    "\n",
    "import pandas as pd\n",
    "\n",
    "audio_features = []\n",
    "\n",
    "for af in audio_files:\n",
    "    y, sr = librosa.load(af, sr=None)\n",
    "    duration = len(y) / sr\n",
    "    \n",
    "    # Voorbeeld: tempo\n",
    "    tempo, _ = librosa.beat.beat_track(y=y, sr=sr)\n",
    "    \n",
    "    # Voorbeeld: gemiddelde zero crossing rate\n",
    "    zcr = librosa.feature.zero_crossing_rate(y)\n",
    "    mean_zcr = zcr.mean()\n",
    "    \n",
    "    # Voeg toe aan lijst\n",
    "    audio_features.append({\n",
    "        'filename': os.path.basename(af),\n",
    "        'duration': duration,\n",
    "        'sampling_rate': sr,\n",
    "        'tempo': tempo,\n",
    "        'mean_zcr': mean_zcr\n",
    "    })\n",
    "\n",
    "df_audio = pd.DataFrame(audio_features)\n",
    "df_audio.head()"
   ]
  },
  {
   "cell_type": "markdown",
   "id": "c15dcb9e",
   "metadata": {},
   "source": [
    "### Inlezen songteksten\n",
    "\n",
    "Laad de songteksten en analyseer ze. Controleer bijvoorbeeld de lengte van de teksten per genre en op veel voorkomende woorden."
   ]
  },
  {
   "cell_type": "code",
   "execution_count": null,
   "id": "beed500f",
   "metadata": {},
   "outputs": [],
   "source": []
  },
  {
   "cell_type": "markdown",
   "id": "ef8ee963",
   "metadata": {},
   "source": [
    "### Relatie bestanden\n",
    "\n",
    "Onderzoek de relaties tussen audiokenmerken, songteksten en de target-genres."
   ]
  },
  {
   "cell_type": "code",
   "execution_count": null,
   "id": "099d1de0",
   "metadata": {},
   "outputs": [],
   "source": []
  },
  {
   "cell_type": "markdown",
   "id": "dddedf72",
   "metadata": {},
   "source": [
    "### EDA Conclusie\n",
    "\n",
    "Beschrijf wat de belangrijkste bevindingen zijn van de EDA."
   ]
  },
  {
   "cell_type": "markdown",
   "id": "c8085440",
   "metadata": {},
   "source": []
  },
  {
   "cell_type": "markdown",
   "id": "c026f4c2",
   "metadata": {},
   "source": [
    "## LSTM voor audioclips"
   ]
  },
  {
   "cell_type": "markdown",
   "id": "543fd8f8",
   "metadata": {
    "vscode": {
     "languageId": "plaintext"
    }
   },
   "source": [
    "### Modelbouwing \n",
    "\n",
    "In deze deelopdracht werk je uitsluitend met de audioclips en niet met de lyrics.\n",
    "\n",
    "Bouw en train een LSTM-model om de genres te voorspellen op basis van de\n",
    "audiodata."
   ]
  },
  {
   "cell_type": "code",
   "execution_count": null,
   "id": "6f652ab0",
   "metadata": {},
   "outputs": [],
   "source": []
  },
  {
   "cell_type": "markdown",
   "id": "51cb540f",
   "metadata": {},
   "source": [
    "### Uitleg model\n",
    "\n",
    "Plot je modelarchitectuur met behulp van een geschikte visualisatietool."
   ]
  },
  {
   "cell_type": "code",
   "execution_count": null,
   "id": "8ccb27f8",
   "metadata": {},
   "outputs": [],
   "source": []
  },
  {
   "cell_type": "markdown",
   "id": "9fbdb5c3",
   "metadata": {},
   "source": [
    "### Feature Engineering\n",
    "\n",
    "Beschrijf in detail welke stappen je onderneemt voor feature engineering."
   ]
  },
  {
   "cell_type": "code",
   "execution_count": null,
   "id": "a8c5a5de",
   "metadata": {},
   "outputs": [],
   "source": []
  },
  {
   "cell_type": "markdown",
   "id": "af57faa4",
   "metadata": {},
   "source": [
    "### Model onderbouwing\n",
    "\n",
    "Onderbouw je keuzes van het aantal LSTM-lagen, het aantal dense lagen, het aantal\n",
    "LSTM-units en neuronen per laag, de activeringsfuncties, de keuze van de optimizer\n",
    "en het aantal trainingsepochs."
   ]
  },
  {
   "cell_type": "code",
   "execution_count": null,
   "id": "8f8c81a6",
   "metadata": {},
   "outputs": [],
   "source": []
  },
  {
   "cell_type": "markdown",
   "id": "d0efe29d",
   "metadata": {},
   "source": [
    "### Model compileren\n",
    "\n",
    "Beschrijf welke lossfunctie het meest geschikt is voor dit probleem. Kies een\n",
    "geschikte optimizer en beschrijf kort hoe deze optimizer werkt. Compile je model\n",
    "met de gekozen lossfunctie en optimizer, en train deze op de audiogegevens."
   ]
  },
  {
   "cell_type": "code",
   "execution_count": null,
   "id": "63961d18",
   "metadata": {},
   "outputs": [],
   "source": []
  },
  {
   "cell_type": "markdown",
   "id": "c9772fca",
   "metadata": {},
   "source": [
    "##  LSTM voor songteksten"
   ]
  },
  {
   "cell_type": "markdown",
   "id": "77ecbaa1",
   "metadata": {},
   "source": [
    "### Modelbouwing \n",
    "In deze deelopdracht werk je alleen met de lyrics en labels, en niet met de audiodata.\n",
    "\n",
    "\n",
    "Bouw en train een LSTM-model om de genres te voorspellen op basis van de lyrics."
   ]
  },
  {
   "cell_type": "code",
   "execution_count": null,
   "id": "20048d39",
   "metadata": {},
   "outputs": [],
   "source": []
  },
  {
   "cell_type": "markdown",
   "id": "7cf192ae",
   "metadata": {},
   "source": [
    "### Uitleg model\n",
    "\n",
    "Plot je modelarchitectuur met behulp van een geschikte visualisatietool."
   ]
  },
  {
   "cell_type": "code",
   "execution_count": null,
   "id": "731b2462",
   "metadata": {},
   "outputs": [],
   "source": []
  },
  {
   "cell_type": "markdown",
   "id": "d40a9b9f",
   "metadata": {},
   "source": [
    "### Model onderbouwing\n",
    "\n",
    "Onderbouw je keuzes van het aantal LSTM-lagen, het aantal dense lagen, het aantal\n",
    "LSTM-units en neuronen per laag, de activeringsfuncties, de keuze van de optimizer\n",
    "en het aantal trainingsepochs."
   ]
  },
  {
   "cell_type": "code",
   "execution_count": null,
   "id": "6de5c2f8",
   "metadata": {},
   "outputs": [],
   "source": []
  },
  {
   "cell_type": "markdown",
   "id": "e525f90e",
   "metadata": {},
   "source": [
    "### Feature Engineering\n",
    "\n",
    "Beschrijf welke vormen van data preprocessing, feature engineering, of/en data augmentation (indien van toepassing ) geschikt zijn voor dit probleem. Implementeer dit in je datapijplijn."
   ]
  },
  {
   "cell_type": "code",
   "execution_count": null,
   "id": "821f4258",
   "metadata": {},
   "outputs": [],
   "source": []
  },
  {
   "cell_type": "markdown",
   "id": "24be69cf",
   "metadata": {},
   "source": [
    "### Model compileren\n",
    "\n",
    "Compile je model met je gekozen lossfunctie en optimizer, en train deze op de tekstdata."
   ]
  },
  {
   "cell_type": "code",
   "execution_count": null,
   "id": "2dfa0888",
   "metadata": {},
   "outputs": [],
   "source": []
  },
  {
   "cell_type": "markdown",
   "id": "57e00dfb",
   "metadata": {},
   "source": [
    "## Transformer voor songteksten "
   ]
  },
  {
   "cell_type": "markdown",
   "id": "dcdaaa52",
   "metadata": {},
   "source": [
    "### Modelbouwing \n",
    "In deze deelopdracht werk je alleen met de lyrics en labels, en niet met de audiodata. \n",
    "\n",
    "Bouw en train een transformer-model om de genres te voorspellen op basis van de lyrics.\n",
    "\n",
    "Voor deze opdracht kies je een voorgetraind model van Hugging Face en fine-tune dit op de songtekstdataset.\n",
    "\n",
    "Geef de naam op van de modelarchitectuur die je hebt gekozen en de dataset waarop deze vooraf is getraind."
   ]
  },
  {
   "cell_type": "code",
   "execution_count": null,
   "id": "9091f279",
   "metadata": {},
   "outputs": [],
   "source": []
  },
  {
   "cell_type": "markdown",
   "id": "3689c868",
   "metadata": {},
   "source": [
    "### Uitleg model\n",
    "\n",
    "Noem de voordelen van het gebruik van vooraf getrainde tekstmodellen en leg ze uit."
   ]
  },
  {
   "cell_type": "code",
   "execution_count": null,
   "id": "2f1281c6",
   "metadata": {},
   "outputs": [],
   "source": []
  },
  {
   "cell_type": "markdown",
   "id": "fc6c6a1b",
   "metadata": {},
   "source": [
    "### Model fine tuning\n",
    "\n",
    "Beschrijf in detail de stappen die worden genomen bij het finetunen van een vooraf getraind transformermodel."
   ]
  },
  {
   "cell_type": "markdown",
   "id": "49e52a93",
   "metadata": {},
   "source": []
  },
  {
   "cell_type": "markdown",
   "id": "029ee7ff",
   "metadata": {},
   "source": [
    "### Model verbeteren\n",
    "\n",
    "Je bent vrij om hier aanvullende technieken voor regularisatie, data augmentation, finetuning van hyperparameters, enz. te gebruiken om je classificatiescore te verbeteren. Motiveer je keuzes."
   ]
  },
  {
   "cell_type": "code",
   "execution_count": null,
   "id": "0769b4f3",
   "metadata": {},
   "outputs": [],
   "source": []
  },
  {
   "cell_type": "markdown",
   "id": "e7312d5f",
   "metadata": {},
   "source": [
    "### Model compileren\n",
    "\n",
    "Compile je model met je gekozen lossfunctie en optimizer. (Staat niet direct in de opdracht)"
   ]
  },
  {
   "cell_type": "code",
   "execution_count": null,
   "id": "4de10919",
   "metadata": {},
   "outputs": [],
   "source": []
  },
  {
   "cell_type": "markdown",
   "id": "fb0c7815",
   "metadata": {},
   "source": [
    "## Model naar keuze\n",
    "\n",
    "Dit is een vrije keuze deelopdracht. Je bent vrij om de tekst, de audio of beide te gebruiken. Bouw en train een model, of een ensemble van modellen, dat de best mogelijke accuracy op deze dataset geeft."
   ]
  },
  {
   "cell_type": "code",
   "execution_count": null,
   "id": "00a08c3f",
   "metadata": {},
   "outputs": [],
   "source": []
  },
  {
   "cell_type": "markdown",
   "id": "f0c28248",
   "metadata": {},
   "source": [
    "### Uitleg Model\n",
    "\n",
    "Plot je modelarchitectuur / architecturen met behulp van een geschikte visualisatietool."
   ]
  },
  {
   "cell_type": "code",
   "execution_count": null,
   "id": "4ec68f89",
   "metadata": {},
   "outputs": [],
   "source": []
  },
  {
   "cell_type": "markdown",
   "id": "af3b4c62",
   "metadata": {},
   "source": [
    "### Model beschrijving\n",
    "\n",
    "Beschrijf in detail de keuzes die je hebt gemaakt bij het maken en trainen van dit model(len). Motiveer je keuzes."
   ]
  },
  {
   "cell_type": "code",
   "execution_count": null,
   "id": "89ec782d",
   "metadata": {},
   "outputs": [],
   "source": []
  },
  {
   "cell_type": "markdown",
   "id": "5cfae352",
   "metadata": {},
   "source": [
    "## Bevindingen\n",
    "\n",
    "Geef een samenvatting van de uitkomsten van het modelleren.\n",
    "- Geef een beknopt overzicht van de resultaten. \n",
    "- Welke model presteert het beste? Bij welke parameters?\n",
    "- Toon je scores op Kaggle en laat zien wat de resultaten waren van je verbeteringen op je score op Kaggle.\n"
   ]
  },
  {
   "cell_type": "markdown",
   "id": "85768c37",
   "metadata": {},
   "source": []
  },
  {
   "cell_type": "markdown",
   "id": "db14de52",
   "metadata": {},
   "source": [
    "## Conclusie en aanbevelingen "
   ]
  },
  {
   "cell_type": "markdown",
   "id": "59c0aca8",
   "metadata": {},
   "source": [
    "## Modelleringsproces en uitdagingen\n",
    "\n",
    "Beschrijf het modelleringsproces voor deze opdracht. Wat waren de uitdagingen daarmee?"
   ]
  },
  {
   "cell_type": "markdown",
   "id": "cfd386ad",
   "metadata": {},
   "source": []
  },
  {
   "cell_type": "markdown",
   "id": "e20894ca",
   "metadata": {},
   "source": [
    "### Modellen - Wat werkte het beste?\n",
    "\n",
    "In deze opdracht heb je verschillende modelarchitecturen uitgeprobeerd, en verschillende technieken om de prestaties te verbeteren. Welke van deze werkte het beste? Welke van deze werkte niet goed? Waarom denk je dat dat het geval was?"
   ]
  },
  {
   "cell_type": "markdown",
   "id": "5a534782",
   "metadata": {},
   "source": []
  },
  {
   "cell_type": "markdown",
   "id": "737a8e3b",
   "metadata": {},
   "source": [
    "### Modellen - Welke werkte het beste?\n",
    "\n",
    "Welke modellen gaven de beste resultaten wat betreft de audiofragmenten? Welke modellen presteerden het beste met de tekstinput?"
   ]
  },
  {
   "cell_type": "code",
   "execution_count": null,
   "id": "47279bfb",
   "metadata": {},
   "outputs": [],
   "source": []
  },
  {
   "cell_type": "markdown",
   "id": "485499ac",
   "metadata": {},
   "source": [
    "### Genres - Welke goed te voorspellen?\n",
    "\n",
    "- Welke genres waren gemakkelijker te voorspellen met behulp van songteksten? \n",
    "- Welke genres waren gemakkelijker te voorspellen met behulp van audio?"
   ]
  },
  {
   "cell_type": "markdown",
   "id": "f42e693f",
   "metadata": {},
   "source": []
  },
  {
   "cell_type": "markdown",
   "id": "e6abd56b",
   "metadata": {},
   "source": [
    "### Aanbevelingen\n",
    "Als een bedrijf zou besluiten om op basis van jouw werk in deze opdracht een geautomatiseerde app voor audioclassificatie te maken, wat zou dan jouw advies zijn?"
   ]
  },
  {
   "cell_type": "markdown",
   "id": "eccd8e57",
   "metadata": {},
   "source": []
  },
  {
   "cell_type": "markdown",
   "id": "09ff6290",
   "metadata": {},
   "source": [
    "### Uitbreidings mogelijkheden\n",
    "Hoe zou je, conceptueel gezien, het werk dat in deze opdracht is gedaan, uitbreiden om een systeem voor muziekaanbevelingen te creëren?"
   ]
  },
  {
   "cell_type": "markdown",
   "id": "34a09352",
   "metadata": {},
   "source": [
    "[//]: # (Lars stinkt)\n",
    "\n",
    "conclusie blah blah"
   ]
  }
 ],
 "metadata": {
  "kernelspec": {
   "display_name": "DeepLearning",
   "language": "python",
   "name": "python3"
  },
  "language_info": {
   "codemirror_mode": {
    "name": "ipython",
    "version": 3
   },
   "file_extension": ".py",
   "mimetype": "text/x-python",
   "name": "python",
   "nbconvert_exporter": "python",
   "pygments_lexer": "ipython3",
   "version": "3.12.9"
  }
 },
 "nbformat": 4,
 "nbformat_minor": 5
}
